{
 "cells": [
  {
   "cell_type": "code",
   "execution_count": 0,
   "metadata": {
    "application/vnd.databricks.v1+cell": {
     "cellMetadata": {
      "byteLimit": 2048000,
      "implicitDf": true,
      "rowLimit": 10000
     },
     "inputWidgets": {},
     "nuid": "dce5e8d7-b546-4475-8eb6-4bcbe39379a1",
     "showTitle": false,
     "tableResultSettingsMap": {},
     "title": ""
    }
   },
   "outputs": [],
   "source": [
    "calendar = spark.read.option(\"header\", \"true\").csv(\"/Volumes/myfirstcatalog/myfirstproduct/myfirstvolume/calendar.csv\")\n",
    "\n",
    "calendar.write.format(\"delta\").saveAsTable(\"myfirstcatalog.myfirstproduct.calendar\",mode=\"overwrite\")"
   ]
  },
  {
   "cell_type": "code",
   "execution_count": 0,
   "metadata": {
    "application/vnd.databricks.v1+cell": {
     "cellMetadata": {
      "byteLimit": 2048000,
      "rowLimit": 10000
     },
     "inputWidgets": {},
     "nuid": "11417db5-ab0c-4c26-a5e2-1c267ffa774b",
     "showTitle": false,
     "tableResultSettingsMap": {},
     "title": ""
    }
   },
   "outputs": [],
   "source": [
    "data_dictionary = spark.read.option(\"header\", \"true\").csv(\"/Volumes/myfirstcatalog/myfirstproduct/myfirstvolume/data_dictionary.csv\")\n",
    "\n",
    "data_dictionary.write.format(\"delta\").saveAsTable(\"myfirstcatalog.myfirstproduct.data_dictionary\",mode=\"overwrite\")"
   ]
  },
  {
   "cell_type": "code",
   "execution_count": 0,
   "metadata": {
    "application/vnd.databricks.v1+cell": {
     "cellMetadata": {
      "byteLimit": 2048000,
      "rowLimit": 10000
     },
     "inputWidgets": {},
     "nuid": "dd07c6a1-ea97-457e-bf71-0e8e5c97a277",
     "showTitle": false,
     "tableResultSettingsMap": {},
     "title": ""
    }
   },
   "outputs": [],
   "source": [
    "inventory = spark.read.option(\"header\", \"true\").csv(\"/Volumes/myfirstcatalog/myfirstproduct/myfirstvolume/inventory.csv\")\n",
    "\n",
    "inventory.write.format(\"delta\").saveAsTable(\"myfirstcatalog.myfirstproduct.inventory\",mode=\"overwrite\")"
   ]
  },
  {
   "cell_type": "code",
   "execution_count": 0,
   "metadata": {
    "application/vnd.databricks.v1+cell": {
     "cellMetadata": {
      "byteLimit": 2048000,
      "rowLimit": 10000
     },
     "inputWidgets": {},
     "nuid": "e3cbb12d-28ca-4c81-8e98-8135ce8d7e9b",
     "showTitle": false,
     "tableResultSettingsMap": {},
     "title": ""
    }
   },
   "outputs": [],
   "source": [
    "products = spark.read.option(\"header\", \"true\").csv(\"/Volumes/myfirstcatalog/myfirstproduct/myfirstvolume/products.csv\")\n",
    "\n",
    "products.write.format(\"delta\").saveAsTable(\"myfirstcatalog.myfirstproduct.products\",mode=\"overwrite\")"
   ]
  },
  {
   "cell_type": "code",
   "execution_count": 0,
   "metadata": {
    "application/vnd.databricks.v1+cell": {
     "cellMetadata": {
      "byteLimit": 2048000,
      "rowLimit": 10000
     },
     "inputWidgets": {},
     "nuid": "e386fef6-d891-4ac5-92e5-3158291e98d3",
     "showTitle": false,
     "tableResultSettingsMap": {},
     "title": ""
    }
   },
   "outputs": [],
   "source": [
    "sales = spark.read.option(\"header\", \"true\").csv(\"/Volumes/myfirstcatalog/myfirstproduct/myfirstvolume/sales.csv\")\n",
    "\n",
    "sales.write.format(\"delta\").saveAsTable(\"myfirstcatalog.myfirstproduct.sales\",mode=\"overwrite\")"
   ]
  },
  {
   "cell_type": "code",
   "execution_count": 0,
   "metadata": {
    "application/vnd.databricks.v1+cell": {
     "cellMetadata": {
      "byteLimit": 2048000,
      "rowLimit": 10000
     },
     "inputWidgets": {},
     "nuid": "a4ced9d4-5f2d-4e94-a570-f22b4734c2c0",
     "showTitle": false,
     "tableResultSettingsMap": {},
     "title": ""
    }
   },
   "outputs": [],
   "source": [
    "stores = spark.read.option(\"header\", \"true\").csv(\"/Volumes/myfirstcatalog/myfirstproduct/myfirstvolume/stores.csv\")\n",
    "\n",
    "stores.write.format(\"delta\").saveAsTable(\"myfirstcatalog.myfirstproduct.stores\",mode=\"overwrite\")"
   ]
  }
 ],
 "metadata": {
  "application/vnd.databricks.v1+notebook": {
   "computePreferences": null,
   "dashboards": [],
   "environmentMetadata": {
    "base_environment": "",
    "environment_version": "2"
   },
   "inputWidgetPreferences": null,
   "language": "python",
   "notebookMetadata": {
    "mostRecentlyExecutedCommandWithImplicitDF": {
     "commandId": 7927446239293019,
     "dataframes": [
      "_sqldf"
     ]
    },
    "pythonIndentUnit": 4
   },
   "notebookName": "myfirstingestionnotebook",
   "widgets": {}
  },
  "language_info": {
   "name": "python"
  }
 },
 "nbformat": 4,
 "nbformat_minor": 0
}
